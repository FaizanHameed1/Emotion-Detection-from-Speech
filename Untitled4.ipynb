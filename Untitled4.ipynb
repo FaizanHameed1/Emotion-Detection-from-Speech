{
  "nbformat": 4,
  "nbformat_minor": 0,
  "metadata": {
    "colab": {
      "name": "Untitled4.ipynb",
      "provenance": [],
      "authorship_tag": "ABX9TyN9k8WvDZYar8/hIxQNKaLU"
    },
    "kernelspec": {
      "name": "python3",
      "display_name": "Python 3"
    },
    "language_info": {
      "name": "python"
    }
  },
  "cells": [
    {
      "cell_type": "code",
      "metadata": {
        "colab": {
          "base_uri": "https://localhost:8080/"
        },
        "id": "Hfcb5b8uoqDw",
        "outputId": "2d17c475-8af0-4458-e083-bf764bd04625"
      },
      "source": [
        "from google.colab import drive\n",
        "drive.mount('/content/gdrive')"
      ],
      "execution_count": 32,
      "outputs": [
        {
          "output_type": "stream",
          "text": [
            "Drive already mounted at /content/gdrive; to attempt to forcibly remount, call drive.mount(\"/content/gdrive\", force_remount=True).\n"
          ],
          "name": "stdout"
        }
      ]
    },
    {
      "cell_type": "code",
      "metadata": {
        "id": "ZNc3goFlo5K3"
      },
      "source": [
        "#Run only 1st time\n",
        "import os\n",
        "#os.environ['KAGGLE_CONFIG_DIR'] = \"/content/gdrive/My Drive/Kaggle/Speech_Emotion_Recognition\""
      ],
      "execution_count": 33,
      "outputs": []
    },
    {
      "cell_type": "code",
      "metadata": {
        "colab": {
          "base_uri": "https://localhost:8080/"
        },
        "id": "HuPmE7XopfX7",
        "outputId": "157d8fc3-5aca-43ac-de29-927d9f69470d"
      },
      "source": [
        "#changing the working directory\n",
        "%cd /content/gdrive/My Drive/Kaggle/Speech_Emotion_Recognition\n"
      ],
      "execution_count": 34,
      "outputs": [
        {
          "output_type": "stream",
          "text": [
            "/content/gdrive/My Drive/Kaggle/Speech_Emotion_Recognition\n"
          ],
          "name": "stdout"
        }
      ]
    },
    {
      "cell_type": "code",
      "metadata": {
        "id": "H8hh_6VEpy-I"
      },
      "source": [
        "#!kaggle datasets download -d ejlok1/cremad #There should be only single 'kaggle.json' file in the directory."
      ],
      "execution_count": 35,
      "outputs": []
    },
    {
      "cell_type": "code",
      "metadata": {
        "id": "XD9FplExq6Dp"
      },
      "source": [
        "#Run only once to unzip the Dataset\n",
        "#unzipping the zip files and deleting the zip files\n",
        "#!unzip \\*.zip  && rm *.zip"
      ],
      "execution_count": 36,
      "outputs": []
    },
    {
      "cell_type": "code",
      "metadata": {
        "colab": {
          "base_uri": "https://localhost:8080/"
        },
        "id": "Y_pyitv2tFqd",
        "outputId": "b298aa17-ec63-45e2-dd71-6107009509a8"
      },
      "source": [
        "#check the content in our directory\n",
        "!ls"
      ],
      "execution_count": 37,
      "outputs": [
        {
          "output_type": "stream",
          "text": [
            "CREMA  kaggle.json  RAVDESS  SAVEE  TESS\n"
          ],
          "name": "stdout"
        }
      ]
    },
    {
      "cell_type": "code",
      "metadata": {
        "colab": {
          "base_uri": "https://localhost:8080/"
        },
        "id": "6qmgbQdkq96e",
        "outputId": "8034be52-6880-49b0-ea24-2a7a6328197f"
      },
      "source": [
        "#Path of the dataset\n",
        "RAVDESS_direct = '/content/gdrive/My Drive/Kaggle/Speech_Emotion_Recognition/RAVDESS' #Directory of speech files\n",
        "print(f'RAVDESS_directory:    {RAVDESS_direct}')"
      ],
      "execution_count": 38,
      "outputs": [
        {
          "output_type": "stream",
          "text": [
            "RAVDESS_directory:    /content/gdrive/My Drive/Kaggle/Speech_Emotion_Recognition/RAVDESS\n"
          ],
          "name": "stdout"
        }
      ]
    },
    {
      "cell_type": "code",
      "metadata": {
        "colab": {
          "base_uri": "https://localhost:8080/"
        },
        "id": "Z9pfXXcxr1ph",
        "outputId": "9ec649fb-8790-4dcb-b9d8-16a18178f38f"
      },
      "source": [
        "rav_files=os.listdir(RAVDESS_direct) #List of files in the directory\n",
        "print(f'RAVDESS files:  {rav_files}')"
      ],
      "execution_count": 39,
      "outputs": [
        {
          "output_type": "stream",
          "text": [
            "RAVDESS files:  ['Actor_01', 'Actor_02', 'Actor_03', 'Actor_04', 'Actor_05', 'Actor_06', 'Actor_07', 'Actor_08', 'Actor_09', 'Actor_10', 'Actor_11', 'Actor_12', 'Actor_13', 'Actor_14', 'Actor_15', 'Actor_16', 'Actor_17', 'Actor_18', 'Actor_19', 'Actor_20', 'Actor_21', 'Actor_22', 'Actor_23', 'Actor_24', 'audio_speech_actors_01-24']\n"
          ],
          "name": "stdout"
        }
      ]
    },
    {
      "cell_type": "code",
      "metadata": {
        "colab": {
          "base_uri": "https://localhost:8080/"
        },
        "id": "4EwZHG0OskpX",
        "outputId": "535099c9-3f4e-4a08-e1d5-7de4d6d391be"
      },
      "source": [
        "#Making a saparate list of files having data i.e from \"Actor_1\" to \"Actor_24\" and discard other files.\n",
        "rav_list=[]\n",
        "for file in rav_files:\n",
        "  if file.startswith('Actor_'):\n",
        "    rav_list.append(file)\n",
        "rav_list\n"
      ],
      "execution_count": 40,
      "outputs": [
        {
          "output_type": "execute_result",
          "data": {
            "text/plain": [
              "['Actor_01',\n",
              " 'Actor_02',\n",
              " 'Actor_03',\n",
              " 'Actor_04',\n",
              " 'Actor_05',\n",
              " 'Actor_06',\n",
              " 'Actor_07',\n",
              " 'Actor_08',\n",
              " 'Actor_09',\n",
              " 'Actor_10',\n",
              " 'Actor_11',\n",
              " 'Actor_12',\n",
              " 'Actor_13',\n",
              " 'Actor_14',\n",
              " 'Actor_15',\n",
              " 'Actor_16',\n",
              " 'Actor_17',\n",
              " 'Actor_18',\n",
              " 'Actor_19',\n",
              " 'Actor_20',\n",
              " 'Actor_21',\n",
              " 'Actor_22',\n",
              " 'Actor_23',\n",
              " 'Actor_24']"
            ]
          },
          "metadata": {
            "tags": []
          },
          "execution_count": 40
        }
      ]
    },
    {
      "cell_type": "code",
      "metadata": {
        "colab": {
          "base_uri": "https://localhost:8080/"
        },
        "id": "LV2BW4Kysvy2",
        "outputId": "29b7e49d-8468-4bdf-d014-5a1982dde196"
      },
      "source": [
        "#Making the path of every file in the list because we want to access every \".wav\" file inside them\n",
        "dir=[]\n",
        "for i in rav_list:\n",
        "  dir.append(RAVDESS_direct+\"/\"+i)\n",
        "dir\n"
      ],
      "execution_count": 41,
      "outputs": [
        {
          "output_type": "execute_result",
          "data": {
            "text/plain": [
              "['/content/gdrive/My Drive/Kaggle/Speech_Emotion_Recognition/RAVDESS/Actor_01',\n",
              " '/content/gdrive/My Drive/Kaggle/Speech_Emotion_Recognition/RAVDESS/Actor_02',\n",
              " '/content/gdrive/My Drive/Kaggle/Speech_Emotion_Recognition/RAVDESS/Actor_03',\n",
              " '/content/gdrive/My Drive/Kaggle/Speech_Emotion_Recognition/RAVDESS/Actor_04',\n",
              " '/content/gdrive/My Drive/Kaggle/Speech_Emotion_Recognition/RAVDESS/Actor_05',\n",
              " '/content/gdrive/My Drive/Kaggle/Speech_Emotion_Recognition/RAVDESS/Actor_06',\n",
              " '/content/gdrive/My Drive/Kaggle/Speech_Emotion_Recognition/RAVDESS/Actor_07',\n",
              " '/content/gdrive/My Drive/Kaggle/Speech_Emotion_Recognition/RAVDESS/Actor_08',\n",
              " '/content/gdrive/My Drive/Kaggle/Speech_Emotion_Recognition/RAVDESS/Actor_09',\n",
              " '/content/gdrive/My Drive/Kaggle/Speech_Emotion_Recognition/RAVDESS/Actor_10',\n",
              " '/content/gdrive/My Drive/Kaggle/Speech_Emotion_Recognition/RAVDESS/Actor_11',\n",
              " '/content/gdrive/My Drive/Kaggle/Speech_Emotion_Recognition/RAVDESS/Actor_12',\n",
              " '/content/gdrive/My Drive/Kaggle/Speech_Emotion_Recognition/RAVDESS/Actor_13',\n",
              " '/content/gdrive/My Drive/Kaggle/Speech_Emotion_Recognition/RAVDESS/Actor_14',\n",
              " '/content/gdrive/My Drive/Kaggle/Speech_Emotion_Recognition/RAVDESS/Actor_15',\n",
              " '/content/gdrive/My Drive/Kaggle/Speech_Emotion_Recognition/RAVDESS/Actor_16',\n",
              " '/content/gdrive/My Drive/Kaggle/Speech_Emotion_Recognition/RAVDESS/Actor_17',\n",
              " '/content/gdrive/My Drive/Kaggle/Speech_Emotion_Recognition/RAVDESS/Actor_18',\n",
              " '/content/gdrive/My Drive/Kaggle/Speech_Emotion_Recognition/RAVDESS/Actor_19',\n",
              " '/content/gdrive/My Drive/Kaggle/Speech_Emotion_Recognition/RAVDESS/Actor_20',\n",
              " '/content/gdrive/My Drive/Kaggle/Speech_Emotion_Recognition/RAVDESS/Actor_21',\n",
              " '/content/gdrive/My Drive/Kaggle/Speech_Emotion_Recognition/RAVDESS/Actor_22',\n",
              " '/content/gdrive/My Drive/Kaggle/Speech_Emotion_Recognition/RAVDESS/Actor_23',\n",
              " '/content/gdrive/My Drive/Kaggle/Speech_Emotion_Recognition/RAVDESS/Actor_24']"
            ]
          },
          "metadata": {
            "tags": []
          },
          "execution_count": 41
        }
      ]
    },
    {
      "cell_type": "code",
      "metadata": {
        "colab": {
          "base_uri": "https://localhost:8080/"
        },
        "id": "lMZFR_8CrI82",
        "outputId": "f403ca86-f0de-4557-a1e8-458a69347383"
      },
      "source": [
        "# Checking the files in each directory and enlist them\n",
        "speech_data=[]\n",
        "for x in dir:\n",
        "  speech_files=os.listdir(x)\n",
        "  speech_data.append(speech_files)\n",
        "speech_data[1]\n"
      ],
      "execution_count": 42,
      "outputs": [
        {
          "output_type": "execute_result",
          "data": {
            "text/plain": [
              "['03-01-01-01-01-01-02.wav',\n",
              " '03-01-02-01-02-01-02.wav',\n",
              " '03-01-02-02-02-01-02.wav',\n",
              " '03-01-02-02-01-02-02.wav',\n",
              " '03-01-02-01-01-02-02.wav',\n",
              " '03-01-02-02-01-01-02.wav',\n",
              " '03-01-01-01-02-01-02.wav',\n",
              " '03-01-01-01-02-02-02.wav',\n",
              " '03-01-02-01-02-02-02.wav',\n",
              " '03-01-02-01-01-01-02.wav',\n",
              " '03-01-01-01-01-02-02.wav',\n",
              " '03-01-06-01-01-02-02.wav',\n",
              " '03-01-05-02-01-01-02.wav',\n",
              " '03-01-06-01-01-01-02.wav',\n",
              " '03-01-05-02-01-02-02.wav',\n",
              " '03-01-04-01-01-01-02.wav',\n",
              " '03-01-03-01-01-01-02.wav',\n",
              " '03-01-06-01-02-02-02.wav',\n",
              " '03-01-02-02-02-02-02.wav',\n",
              " '03-01-03-02-02-01-02.wav',\n",
              " '03-01-03-01-02-02-02.wav',\n",
              " '03-01-06-01-02-01-02.wav',\n",
              " '03-01-04-02-02-02-02.wav',\n",
              " '03-01-03-02-01-02-02.wav',\n",
              " '03-01-03-02-01-01-02.wav',\n",
              " '03-01-04-02-02-01-02.wav',\n",
              " '03-01-05-02-02-02-02.wav',\n",
              " '03-01-03-02-02-02-02.wav',\n",
              " '03-01-04-02-01-01-02.wav',\n",
              " '03-01-05-01-01-02-02.wav',\n",
              " '03-01-04-01-02-02-02.wav',\n",
              " '03-01-04-02-01-02-02.wav',\n",
              " '03-01-03-01-01-02-02.wav',\n",
              " '03-01-04-01-02-01-02.wav',\n",
              " '03-01-05-01-02-01-02.wav',\n",
              " '03-01-04-01-01-02-02.wav',\n",
              " '03-01-03-01-02-01-02.wav',\n",
              " '03-01-05-01-01-01-02.wav',\n",
              " '03-01-05-02-02-01-02.wav',\n",
              " '03-01-05-01-02-02-02.wav',\n",
              " '03-01-06-02-01-01-02.wav',\n",
              " '03-01-07-01-01-01-02.wav',\n",
              " '03-01-06-02-02-02-02.wav',\n",
              " '03-01-06-02-01-02-02.wav',\n",
              " '03-01-07-01-01-02-02.wav',\n",
              " '03-01-06-02-02-01-02.wav',\n",
              " '03-01-07-02-02-01-02.wav',\n",
              " '03-01-07-01-02-01-02.wav',\n",
              " '03-01-08-02-02-01-02.wav',\n",
              " '03-01-08-02-02-02-02.wav',\n",
              " '03-01-08-02-01-02-02.wav',\n",
              " '03-01-07-02-01-02-02.wav',\n",
              " '03-01-07-02-01-01-02.wav',\n",
              " '03-01-07-02-02-02-02.wav',\n",
              " '03-01-08-02-01-01-02.wav',\n",
              " '03-01-07-01-02-02-02.wav',\n",
              " '03-01-08-01-01-02-02.wav',\n",
              " '03-01-08-01-01-01-02.wav',\n",
              " '03-01-08-01-02-01-02.wav',\n",
              " '03-01-08-01-02-02-02.wav']"
            ]
          },
          "metadata": {
            "tags": []
          },
          "execution_count": 42
        }
      ]
    },
    {
      "cell_type": "code",
      "metadata": {
        "id": "E-MsusL3uM72"
      },
      "source": [
        "import numpy as np\n",
        "import pandas as pd\n",
        "import matplotlib.pyplot as plt\n",
        "%matplotlib inline"
      ],
      "execution_count": 43,
      "outputs": []
    },
    {
      "cell_type": "code",
      "metadata": {
        "colab": {
          "base_uri": "https://localhost:8080/"
        },
        "id": "3R9Va3ru6D3O",
        "outputId": "ac06bac5-1fff-4817-a54d-d0e7c542de6c"
      },
      "source": [
        "np.shape(speech_data)"
      ],
      "execution_count": 44,
      "outputs": [
        {
          "output_type": "execute_result",
          "data": {
            "text/plain": [
              "(24, 60)"
            ]
          },
          "metadata": {
            "tags": []
          },
          "execution_count": 44
        }
      ]
    },
    {
      "cell_type": "code",
      "metadata": {
        "colab": {
          "base_uri": "https://localhost:8080/"
        },
        "id": "f2JxXjiAyrMW",
        "outputId": "7cc7abb6-8a80-48f5-a088-508ddcbbf391"
      },
      "source": [
        "isinstance(speech_data,list) #Whether it is a list or not3"
      ],
      "execution_count": 45,
      "outputs": [
        {
          "output_type": "execute_result",
          "data": {
            "text/plain": [
              "True"
            ]
          },
          "metadata": {
            "tags": []
          },
          "execution_count": 45
        }
      ]
    },
    {
      "cell_type": "code",
      "metadata": {
        "id": "ZoGfyuHsNkwU"
      },
      "source": [
        "#flattening the list\n",
        "#speech_list=[]\n",
        "#for s in speech_data:\n",
        "#  for j in s:\n",
        "#    speech_list.append(j)\n",
        "#speech_list.sort()\n",
        "#np.shape(speech_list)\n",
        "\n"
      ],
      "execution_count": 46,
      "outputs": []
    },
    {
      "cell_type": "code",
      "metadata": {
        "id": "qNrIjtkXTQy8"
      },
      "source": [
        "#Converting a variable name into string to get information from that name\n",
        "#Parsing the list \n",
        "#speech_list[0][2]"
      ],
      "execution_count": 47,
      "outputs": []
    },
    {
      "cell_type": "code",
      "metadata": {
        "colab": {
          "base_uri": "https://localhost:8080/"
        },
        "id": "gdkPCp9zxEzk",
        "outputId": "9e4516c9-b9e9-423f-8d05-f9ed381192e3"
      },
      "source": [
        "#Converting into numpy array\n",
        "speech_arr=np.array(speech_data)\n",
        "speech_arr[1:2]"
      ],
      "execution_count": 48,
      "outputs": [
        {
          "output_type": "execute_result",
          "data": {
            "text/plain": [
              "array([['03-01-01-01-01-01-02.wav', '03-01-02-01-02-01-02.wav',\n",
              "        '03-01-02-02-02-01-02.wav', '03-01-02-02-01-02-02.wav',\n",
              "        '03-01-02-01-01-02-02.wav', '03-01-02-02-01-01-02.wav',\n",
              "        '03-01-01-01-02-01-02.wav', '03-01-01-01-02-02-02.wav',\n",
              "        '03-01-02-01-02-02-02.wav', '03-01-02-01-01-01-02.wav',\n",
              "        '03-01-01-01-01-02-02.wav', '03-01-06-01-01-02-02.wav',\n",
              "        '03-01-05-02-01-01-02.wav', '03-01-06-01-01-01-02.wav',\n",
              "        '03-01-05-02-01-02-02.wav', '03-01-04-01-01-01-02.wav',\n",
              "        '03-01-03-01-01-01-02.wav', '03-01-06-01-02-02-02.wav',\n",
              "        '03-01-02-02-02-02-02.wav', '03-01-03-02-02-01-02.wav',\n",
              "        '03-01-03-01-02-02-02.wav', '03-01-06-01-02-01-02.wav',\n",
              "        '03-01-04-02-02-02-02.wav', '03-01-03-02-01-02-02.wav',\n",
              "        '03-01-03-02-01-01-02.wav', '03-01-04-02-02-01-02.wav',\n",
              "        '03-01-05-02-02-02-02.wav', '03-01-03-02-02-02-02.wav',\n",
              "        '03-01-04-02-01-01-02.wav', '03-01-05-01-01-02-02.wav',\n",
              "        '03-01-04-01-02-02-02.wav', '03-01-04-02-01-02-02.wav',\n",
              "        '03-01-03-01-01-02-02.wav', '03-01-04-01-02-01-02.wav',\n",
              "        '03-01-05-01-02-01-02.wav', '03-01-04-01-01-02-02.wav',\n",
              "        '03-01-03-01-02-01-02.wav', '03-01-05-01-01-01-02.wav',\n",
              "        '03-01-05-02-02-01-02.wav', '03-01-05-01-02-02-02.wav',\n",
              "        '03-01-06-02-01-01-02.wav', '03-01-07-01-01-01-02.wav',\n",
              "        '03-01-06-02-02-02-02.wav', '03-01-06-02-01-02-02.wav',\n",
              "        '03-01-07-01-01-02-02.wav', '03-01-06-02-02-01-02.wav',\n",
              "        '03-01-07-02-02-01-02.wav', '03-01-07-01-02-01-02.wav',\n",
              "        '03-01-08-02-02-01-02.wav', '03-01-08-02-02-02-02.wav',\n",
              "        '03-01-08-02-01-02-02.wav', '03-01-07-02-01-02-02.wav',\n",
              "        '03-01-07-02-01-01-02.wav', '03-01-07-02-02-02-02.wav',\n",
              "        '03-01-08-02-01-01-02.wav', '03-01-07-01-02-02-02.wav',\n",
              "        '03-01-08-01-01-02-02.wav', '03-01-08-01-01-01-02.wav',\n",
              "        '03-01-08-01-02-01-02.wav', '03-01-08-01-02-02-02.wav']],\n",
              "      dtype='<U24')"
            ]
          },
          "metadata": {
            "tags": []
          },
          "execution_count": 48
        }
      ]
    },
    {
      "cell_type": "code",
      "metadata": {
        "colab": {
          "base_uri": "https://localhost:8080/"
        },
        "id": "o9vW9wfy0yQH",
        "outputId": "4099fefa-02c6-4aab-893f-e9ed2fcf1a5f"
      },
      "source": [
        "np.shape(speech_arr)"
      ],
      "execution_count": 49,
      "outputs": [
        {
          "output_type": "execute_result",
          "data": {
            "text/plain": [
              "(24, 60)"
            ]
          },
          "metadata": {
            "tags": []
          },
          "execution_count": 49
        }
      ]
    },
    {
      "cell_type": "code",
      "metadata": {
        "colab": {
          "base_uri": "https://localhost:8080/"
        },
        "id": "xRdL7A-O8XYq",
        "outputId": "ab359c0c-6bd2-435b-9563-d814ad476113"
      },
      "source": [
        "#flattening the array to single dimention\n",
        "speech_flatten=speech_arr.flatten(order='C')\n",
        "#speech=np.reshape(speech_flatten,(1440,1)) #We have not reshape our array to (1440,1) otherwise we can't parse the variable names\n",
        "speech_flatten.sort()\n",
        "np.shape(speech_flatten)"
      ],
      "execution_count": 50,
      "outputs": [
        {
          "output_type": "execute_result",
          "data": {
            "text/plain": [
              "(1440,)"
            ]
          },
          "metadata": {
            "tags": []
          },
          "execution_count": 50
        }
      ]
    },
    {
      "cell_type": "code",
      "metadata": {
        "id": "H1I7b83GD9pf"
      },
      "source": [
        "#speech_list= speech.tolist()\n",
        "#speech_list[0:10]"
      ],
      "execution_count": 51,
      "outputs": []
    },
    {
      "cell_type": "code",
      "metadata": {
        "colab": {
          "base_uri": "https://localhost:8080/"
        },
        "id": "nI_CU81gl2DS",
        "outputId": "b563b488-6fa1-4d16-c209-f68dbde54c02"
      },
      "source": [
        "speech_flatten[0:10]"
      ],
      "execution_count": 52,
      "outputs": [
        {
          "output_type": "execute_result",
          "data": {
            "text/plain": [
              "array(['03-01-01-01-01-01-01.wav', '03-01-01-01-01-01-02.wav',\n",
              "       '03-01-01-01-01-01-03.wav', '03-01-01-01-01-01-04.wav',\n",
              "       '03-01-01-01-01-01-05.wav', '03-01-01-01-01-01-06.wav',\n",
              "       '03-01-01-01-01-01-07.wav', '03-01-01-01-01-01-08.wav',\n",
              "       '03-01-01-01-01-01-09.wav', '03-01-01-01-01-01-10.wav'],\n",
              "      dtype='<U24')"
            ]
          },
          "metadata": {
            "tags": []
          },
          "execution_count": 52
        }
      ]
    },
    {
      "cell_type": "code",
      "metadata": {
        "colab": {
          "base_uri": "https://localhost:8080/",
          "height": 35
        },
        "id": "KbMWKRLJcJcV",
        "outputId": "0ac4591c-c22a-49f3-dc40-de88ca8329e5"
      },
      "source": [
        "#Parsing the array variables to get the information of emotions\n",
        "#Here it is an example of parsing for first variable of list where we got emotion identifier(Check \"dataset_info.txt\" file for further information)\n",
        "speech_flatten[1][6:8]"
      ],
      "execution_count": 53,
      "outputs": [
        {
          "output_type": "execute_result",
          "data": {
            "application/vnd.google.colaboratory.intrinsic+json": {
              "type": "string"
            },
            "text/plain": [
              "'01'"
            ]
          },
          "metadata": {
            "tags": []
          },
          "execution_count": 53
        }
      ]
    },
    {
      "cell_type": "code",
      "metadata": {
        "colab": {
          "base_uri": "https://localhost:8080/"
        },
        "id": "HGam7WGK-2mD",
        "outputId": "bfac13df-94e5-4ceb-afa8-0b3de5dbaa5f"
      },
      "source": [
        "#Iterating the array for emotions\n",
        "emotions_id=[]\n",
        "for e in speech_flatten:\n",
        "  emotions_id.append(e[6:8])\n",
        "print(emotions_id[0:10])"
      ],
      "execution_count": 54,
      "outputs": [
        {
          "output_type": "stream",
          "text": [
            "['01', '01', '01', '01', '01', '01', '01', '01', '01', '01']\n"
          ],
          "name": "stdout"
        }
      ]
    },
    {
      "cell_type": "code",
      "metadata": {
        "id": "QR8gkY0PuS1Z"
      },
      "source": [
        ""
      ],
      "execution_count": 54,
      "outputs": []
    }
  ]
}